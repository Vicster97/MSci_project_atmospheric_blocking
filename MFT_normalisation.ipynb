{
 "cells": [
  {
   "cell_type": "markdown",
   "metadata": {},
   "source": [
    "# Notebook for prototyping the homogenuity of ethics \n",
    "\n",
    "In this notebook we, MFT team, will be developing the prototy of homogenising the ethics ranking. We will start by looking at 4 transport and 4 clothing companies: \n",
    "\n",
    "1) Transport:\n",
    " - Emirates Airlines (State-owned)\n",
    " - TFL (Local goverment body)\n",
    " - Ryanair (Private)\n",
    " - National Express (private)\n",
    "\n",
    "2) Clothing:\n",
    " - M&S\n",
    " - Primark \n",
    " - Uniqlo\n",
    " - Zara \n",
    "\n",
    "We would like to propose a model with 3 layers indication of how ethical the company is. \n",
    " - 0 layer would be the layer that pops up after that particular company was searched or after a customer purchased an item from that company (i.e. in the purchase summary). Like so:\n",
    " \n",
    "<img src=\"0_layer.png\"  width=\"400\">\n",
    " \n",
    " - 1st layer would contain 3 loading bars indicating the rating for E, S and G values of the company followed by the MFT combined rating loading bar. Next to every bar we have a descriptive word of how the company is curently tackling the problems that they have in that particular sector (i.e. \"good\", \"improving\" or \"consistently good\", \"in progress\"). This would look something like this: (a) Marks Version a loading bar\n",
    "\n",
    "<img src='loading_bar_example.png'  width=\"50%\" >\n",
    "(b) put together in the app:\n",
    "<img src=\"1st_layer.png\" width=\"40%\">\n",
    "\n",
    " - 2nd layer would pop up if you click on the company name. This will provide a quick review of the company in 2-3 sentences for each section to break down scores of that company in each section (i.e. E,S and G). Seperate organisations or projects that the company is currently involved with should be text hyperlinks. This layer should be dated and should be properly referenced so that the source this information is based off can be easily accessible (in a type of a text hyperlink). There should be more some number indication of the improvements they have made (e.g. The new production method saves up to 80% of water they used previously). This would look something like so:\n",
    " \n",
    "<img src=\"2nd_layer.png\" width=\"40%\">\n",
    "\n",
    "At the bottom of the first layer we would have the alternative stores like so:\n",
    "\n",
    "<img src=\"suggested_stores.png\" width=\"40%\">\n",
    "\n",
    "Next we are going to look at how these E,S and G scores are calculated (from Good on You app and others) = Mark, and look at the similarities between the informaion availale for each company in a particular industry = Vic. "
   ]
  },
  {
   "cell_type": "code",
   "execution_count": null,
   "metadata": {},
   "outputs": [],
   "source": []
  }
 ],
 "metadata": {
  "kernelspec": {
   "display_name": "Python (Py35)",
   "language": "python",
   "name": "py35"
  },
  "language_info": {
   "codemirror_mode": {
    "name": "ipython",
    "version": 3
   },
   "file_extension": ".py",
   "mimetype": "text/x-python",
   "name": "python",
   "nbconvert_exporter": "python",
   "pygments_lexer": "ipython3",
   "version": "3.5.6"
  }
 },
 "nbformat": 4,
 "nbformat_minor": 2
}
